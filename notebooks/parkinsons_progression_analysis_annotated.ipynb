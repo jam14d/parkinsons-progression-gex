{
 "cells": [
  {
   "cell_type": "markdown",
   "id": "0d7a7c92",
   "metadata": {},
   "source": [
    "# Parkinson’s Disease Progression and Gene Expression Analysis\n",
    "**Dataset:** GSE49036 (NCBI GEO)\n",
    "\n",
    "This notebook investigates gene expression changes in the substantia nigra across different stages of Parkinson’s disease progression, as defined by Braak staging (Control, BR12, BR34, BR56). Using microarray data from GEO dataset GSE49036, we perform differential expression analysis and trend-based modeling to identify genes whose expression levels vary with disease severity."
   ]
  },
  {
   "cell_type": "markdown",
   "id": "c9453c72",
   "metadata": {},
   "source": [
    "## Step 1: Load and Inspect the Data"
   ]
  },
  {
   "cell_type": "code",
   "execution_count": 1,
   "id": "47bcfae9",
   "metadata": {},
   "outputs": [
    {
     "data": {
      "text/html": [
       "<div>\n",
       "<style scoped>\n",
       "    .dataframe tbody tr th:only-of-type {\n",
       "        vertical-align: middle;\n",
       "    }\n",
       "\n",
       "    .dataframe tbody tr th {\n",
       "        vertical-align: top;\n",
       "    }\n",
       "\n",
       "    .dataframe thead th {\n",
       "        text-align: right;\n",
       "    }\n",
       "</style>\n",
       "<table border=\"1\" class=\"dataframe\">\n",
       "  <thead>\n",
       "    <tr style=\"text-align: right;\">\n",
       "      <th>ID_REF</th>\n",
       "      <th>1007_s_at</th>\n",
       "      <th>1053_at</th>\n",
       "      <th>117_at</th>\n",
       "      <th>121_at</th>\n",
       "      <th>1255_g_at</th>\n",
       "      <th>1294_at</th>\n",
       "      <th>1316_at</th>\n",
       "      <th>1320_at</th>\n",
       "      <th>1405_i_at</th>\n",
       "      <th>1431_at</th>\n",
       "      <th>...</th>\n",
       "      <th>AFFX-r2-Ec-bioD-3_at</th>\n",
       "      <th>AFFX-r2-Ec-bioD-5_at</th>\n",
       "      <th>AFFX-r2-P1-cre-3_at</th>\n",
       "      <th>AFFX-r2-P1-cre-5_at</th>\n",
       "      <th>AFFX-ThrX-3_at</th>\n",
       "      <th>AFFX-ThrX-5_at</th>\n",
       "      <th>AFFX-ThrX-M_at</th>\n",
       "      <th>AFFX-TrpnX-3_at</th>\n",
       "      <th>AFFX-TrpnX-5_at</th>\n",
       "      <th>AFFX-TrpnX-M_at</th>\n",
       "    </tr>\n",
       "  </thead>\n",
       "  <tbody>\n",
       "    <tr>\n",
       "      <th>GSM1192691</th>\n",
       "      <td>10.5641</td>\n",
       "      <td>6.60376</td>\n",
       "      <td>5.68355</td>\n",
       "      <td>7.91604</td>\n",
       "      <td>5.16548</td>\n",
       "      <td>6.85336</td>\n",
       "      <td>5.53094</td>\n",
       "      <td>4.72669</td>\n",
       "      <td>5.27655</td>\n",
       "      <td>5.00814</td>\n",
       "      <td>...</td>\n",
       "      <td>12.4445</td>\n",
       "      <td>11.8873</td>\n",
       "      <td>13.9853</td>\n",
       "      <td>13.7274</td>\n",
       "      <td>11.04800</td>\n",
       "      <td>7.35552</td>\n",
       "      <td>9.09508</td>\n",
       "      <td>2.87610</td>\n",
       "      <td>3.45100</td>\n",
       "      <td>3.10766</td>\n",
       "    </tr>\n",
       "    <tr>\n",
       "      <th>GSM1192692</th>\n",
       "      <td>11.1759</td>\n",
       "      <td>6.12394</td>\n",
       "      <td>5.82604</td>\n",
       "      <td>8.10854</td>\n",
       "      <td>4.53927</td>\n",
       "      <td>7.20813</td>\n",
       "      <td>5.75089</td>\n",
       "      <td>4.61105</td>\n",
       "      <td>4.85065</td>\n",
       "      <td>4.89116</td>\n",
       "      <td>...</td>\n",
       "      <td>12.7364</td>\n",
       "      <td>12.2142</td>\n",
       "      <td>13.9713</td>\n",
       "      <td>13.7999</td>\n",
       "      <td>4.35998</td>\n",
       "      <td>3.41204</td>\n",
       "      <td>3.09720</td>\n",
       "      <td>2.77050</td>\n",
       "      <td>3.33565</td>\n",
       "      <td>3.16542</td>\n",
       "    </tr>\n",
       "    <tr>\n",
       "      <th>GSM1192693</th>\n",
       "      <td>10.4751</td>\n",
       "      <td>6.77599</td>\n",
       "      <td>5.92443</td>\n",
       "      <td>7.86884</td>\n",
       "      <td>5.90801</td>\n",
       "      <td>6.41755</td>\n",
       "      <td>5.48822</td>\n",
       "      <td>4.45110</td>\n",
       "      <td>4.81965</td>\n",
       "      <td>4.97457</td>\n",
       "      <td>...</td>\n",
       "      <td>12.2786</td>\n",
       "      <td>11.7375</td>\n",
       "      <td>13.8540</td>\n",
       "      <td>13.6569</td>\n",
       "      <td>4.24409</td>\n",
       "      <td>3.66790</td>\n",
       "      <td>3.03463</td>\n",
       "      <td>2.63667</td>\n",
       "      <td>3.29663</td>\n",
       "      <td>3.30410</td>\n",
       "    </tr>\n",
       "    <tr>\n",
       "      <th>GSM1192694</th>\n",
       "      <td>10.9885</td>\n",
       "      <td>6.43294</td>\n",
       "      <td>5.86894</td>\n",
       "      <td>7.92703</td>\n",
       "      <td>4.67369</td>\n",
       "      <td>6.94416</td>\n",
       "      <td>5.86956</td>\n",
       "      <td>4.52485</td>\n",
       "      <td>4.80454</td>\n",
       "      <td>4.78318</td>\n",
       "      <td>...</td>\n",
       "      <td>12.8319</td>\n",
       "      <td>12.3234</td>\n",
       "      <td>14.0776</td>\n",
       "      <td>13.9672</td>\n",
       "      <td>4.42594</td>\n",
       "      <td>3.69760</td>\n",
       "      <td>3.30814</td>\n",
       "      <td>2.91511</td>\n",
       "      <td>3.42633</td>\n",
       "      <td>3.15808</td>\n",
       "    </tr>\n",
       "    <tr>\n",
       "      <th>GSM1192695</th>\n",
       "      <td>10.1362</td>\n",
       "      <td>6.87867</td>\n",
       "      <td>5.68709</td>\n",
       "      <td>8.02081</td>\n",
       "      <td>5.37847</td>\n",
       "      <td>6.73202</td>\n",
       "      <td>5.37670</td>\n",
       "      <td>4.90069</td>\n",
       "      <td>4.47104</td>\n",
       "      <td>5.26074</td>\n",
       "      <td>...</td>\n",
       "      <td>11.9782</td>\n",
       "      <td>11.4839</td>\n",
       "      <td>13.7716</td>\n",
       "      <td>13.4899</td>\n",
       "      <td>4.20578</td>\n",
       "      <td>3.87063</td>\n",
       "      <td>3.14483</td>\n",
       "      <td>2.60828</td>\n",
       "      <td>3.31189</td>\n",
       "      <td>3.24647</td>\n",
       "    </tr>\n",
       "  </tbody>\n",
       "</table>\n",
       "<p>5 rows × 54675 columns</p>\n",
       "</div>"
      ],
      "text/plain": [
       "ID_REF      1007_s_at  1053_at   117_at   121_at  1255_g_at  1294_at  1316_at  \\\n",
       "GSM1192691    10.5641  6.60376  5.68355  7.91604    5.16548  6.85336  5.53094   \n",
       "GSM1192692    11.1759  6.12394  5.82604  8.10854    4.53927  7.20813  5.75089   \n",
       "GSM1192693    10.4751  6.77599  5.92443  7.86884    5.90801  6.41755  5.48822   \n",
       "GSM1192694    10.9885  6.43294  5.86894  7.92703    4.67369  6.94416  5.86956   \n",
       "GSM1192695    10.1362  6.87867  5.68709  8.02081    5.37847  6.73202  5.37670   \n",
       "\n",
       "ID_REF      1320_at  1405_i_at  1431_at  ...  AFFX-r2-Ec-bioD-3_at  \\\n",
       "GSM1192691  4.72669    5.27655  5.00814  ...               12.4445   \n",
       "GSM1192692  4.61105    4.85065  4.89116  ...               12.7364   \n",
       "GSM1192693  4.45110    4.81965  4.97457  ...               12.2786   \n",
       "GSM1192694  4.52485    4.80454  4.78318  ...               12.8319   \n",
       "GSM1192695  4.90069    4.47104  5.26074  ...               11.9782   \n",
       "\n",
       "ID_REF      AFFX-r2-Ec-bioD-5_at  AFFX-r2-P1-cre-3_at  AFFX-r2-P1-cre-5_at  \\\n",
       "GSM1192691               11.8873              13.9853              13.7274   \n",
       "GSM1192692               12.2142              13.9713              13.7999   \n",
       "GSM1192693               11.7375              13.8540              13.6569   \n",
       "GSM1192694               12.3234              14.0776              13.9672   \n",
       "GSM1192695               11.4839              13.7716              13.4899   \n",
       "\n",
       "ID_REF      AFFX-ThrX-3_at  AFFX-ThrX-5_at  AFFX-ThrX-M_at  AFFX-TrpnX-3_at  \\\n",
       "GSM1192691        11.04800         7.35552         9.09508          2.87610   \n",
       "GSM1192692         4.35998         3.41204         3.09720          2.77050   \n",
       "GSM1192693         4.24409         3.66790         3.03463          2.63667   \n",
       "GSM1192694         4.42594         3.69760         3.30814          2.91511   \n",
       "GSM1192695         4.20578         3.87063         3.14483          2.60828   \n",
       "\n",
       "ID_REF      AFFX-TrpnX-5_at  AFFX-TrpnX-M_at  \n",
       "GSM1192691          3.45100          3.10766  \n",
       "GSM1192692          3.33565          3.16542  \n",
       "GSM1192693          3.29663          3.30410  \n",
       "GSM1192694          3.42633          3.15808  \n",
       "GSM1192695          3.31189          3.24647  \n",
       "\n",
       "[5 rows x 54675 columns]"
      ]
     },
     "execution_count": 1,
     "metadata": {},
     "output_type": "execute_result"
    }
   ],
   "source": [
    "import pandas as pd\n",
    "import numpy as np\n",
    "\n",
    "# Load the GEO expression matrix\n",
    "df = pd.read_csv(\"/Users/jamieannemortel/Desktop/parkinsons-gene-expression-analysis/data/GSE49036_series_matrix.txt\", sep='\\t', comment='!', index_col=0)\n",
    "df = df.T\n",
    "\n",
    "#df = df[df.index.str.startswith(\"GSM\")]\n",
    "df.head()"
   ]
  },
  {
   "cell_type": "markdown",
   "id": "3a2250a6",
   "metadata": {},
   "source": [
    "## Step 2: Assign Braak Stage Labels"
   ]
  },
  {
   "cell_type": "code",
   "execution_count": 2,
   "id": "b5f0e881",
   "metadata": {},
   "outputs": [
    {
     "name": "stdout",
     "output_type": "stream",
     "text": [
      "Group\n",
      "Control    8\n",
      "BR56       8\n",
      "BR34       7\n",
      "BR12       5\n",
      "Name: count, dtype: int64\n"
     ]
    }
   ],
   "source": [
    "group_labels = (\n",
    "    ['Control'] * 8 +\n",
    "    ['BR12'] * 5 +\n",
    "    ['BR34'] * 7 +\n",
    "    ['BR56'] * 8\n",
    ")\n",
    "df['Group'] = group_labels\n",
    "print(df['Group'].value_counts())"
   ]
  },
  {
   "cell_type": "markdown",
   "id": "94bf8e84",
   "metadata": {},
   "source": [
    "## Step 3: Load and Merge Annotation File"
   ]
  },
  {
   "cell_type": "code",
   "execution_count": 7,
   "id": "3560c58c",
   "metadata": {},
   "outputs": [
    {
     "name": "stdout",
     "output_type": "stream",
     "text": [
      "Annotation file loaded. Shape: (54675, 2)\n"
     ]
    }
   ],
   "source": [
    "# Load annotation file\n",
    "anno = pd.read_csv(\n",
    "    \"/Users/jamieannemortel/Desktop/parkinsons-gene-expression-analysis/data/GPL570-55999.txt\",\n",
    "    sep=\"\\t\",\n",
    "    skiprows=16,\n",
    "    low_memory=False\n",
    ")\n",
    "\n",
    "anno = anno[['ID', 'Gene Symbol']]\n",
    "anno.columns = ['ID_REF', 'Gene_Symbol']\n",
    "\n",
    "\n",
    "print(\"Annotation file loaded. Shape:\", anno.shape)\n"
   ]
  },
  {
   "cell_type": "markdown",
   "id": "fb1f2c04",
   "metadata": {},
   "source": [
    "## Step 4: Differential Expression Analysis using ANOVA"
   ]
  },
  {
   "cell_type": "code",
   "execution_count": 8,
   "id": "b44b5a72",
   "metadata": {},
   "outputs": [],
   "source": [
    "from scipy.stats import f_oneway\n",
    "\n",
    "# Split the DataFrame into groups\n",
    "grp_ctrl = df[df['Group'] == 'Control']\n",
    "grp_br12 = df[df['Group'] == 'BR12']\n",
    "grp_br34 = df[df['Group'] == 'BR34']\n",
    "grp_br56 = df[df['Group'] == 'BR56']\n",
    "\n",
    "# Run ANOVA across Braak stages\n",
    "results = []\n",
    "for gene in df.columns.drop('Group'):\n",
    "    stat, pval = f_oneway(\n",
    "        grp_ctrl[gene],\n",
    "        grp_br12[gene],\n",
    "        grp_br34[gene],\n",
    "        grp_br56[gene]\n",
    "    )\n",
    "    results.append({'gene': gene, 'p_value': pval})"
   ]
  },
  {
   "cell_type": "markdown",
   "id": "1fe90925",
   "metadata": {},
   "source": [
    "## Step 5: Merge Gene Symbols into Results"
   ]
  },
  {
   "cell_type": "code",
   "execution_count": 9,
   "id": "94371262",
   "metadata": {},
   "outputs": [
    {
     "data": {
      "text/html": [
       "<div>\n",
       "<style scoped>\n",
       "    .dataframe tbody tr th:only-of-type {\n",
       "        vertical-align: middle;\n",
       "    }\n",
       "\n",
       "    .dataframe tbody tr th {\n",
       "        vertical-align: top;\n",
       "    }\n",
       "\n",
       "    .dataframe thead th {\n",
       "        text-align: right;\n",
       "    }\n",
       "</style>\n",
       "<table border=\"1\" class=\"dataframe\">\n",
       "  <thead>\n",
       "    <tr style=\"text-align: right;\">\n",
       "      <th></th>\n",
       "      <th>gene</th>\n",
       "      <th>Gene_Symbol</th>\n",
       "      <th>p_value</th>\n",
       "    </tr>\n",
       "  </thead>\n",
       "  <tbody>\n",
       "    <tr>\n",
       "      <th>0</th>\n",
       "      <td>1007_s_at</td>\n",
       "      <td>DDR1 /// MIR4640</td>\n",
       "      <td>0.147099</td>\n",
       "    </tr>\n",
       "    <tr>\n",
       "      <th>1</th>\n",
       "      <td>1053_at</td>\n",
       "      <td>RFC2</td>\n",
       "      <td>0.925228</td>\n",
       "    </tr>\n",
       "    <tr>\n",
       "      <th>2</th>\n",
       "      <td>117_at</td>\n",
       "      <td>HSPA6</td>\n",
       "      <td>0.001391</td>\n",
       "    </tr>\n",
       "    <tr>\n",
       "      <th>3</th>\n",
       "      <td>121_at</td>\n",
       "      <td>PAX8</td>\n",
       "      <td>0.586106</td>\n",
       "    </tr>\n",
       "    <tr>\n",
       "      <th>4</th>\n",
       "      <td>1255_g_at</td>\n",
       "      <td>GUCA1A</td>\n",
       "      <td>0.335345</td>\n",
       "    </tr>\n",
       "  </tbody>\n",
       "</table>\n",
       "</div>"
      ],
      "text/plain": [
       "        gene       Gene_Symbol   p_value\n",
       "0  1007_s_at  DDR1 /// MIR4640  0.147099\n",
       "1    1053_at              RFC2  0.925228\n",
       "2     117_at             HSPA6  0.001391\n",
       "3     121_at              PAX8  0.586106\n",
       "4  1255_g_at            GUCA1A  0.335345"
      ]
     },
     "execution_count": 9,
     "metadata": {},
     "output_type": "execute_result"
    }
   ],
   "source": [
    "results_df = pd.DataFrame(results)\n",
    "results_df['-log10(p_value)'] = -np.log10(results_df['p_value'])\n",
    "\n",
    "# Merge gene symbols\n",
    "results_df = results_df.merge(anno, left_on='gene', right_on='ID_REF', how='left')\n",
    "results_df[['gene', 'Gene_Symbol', 'p_value']].head()"
   ]
  },
  {
   "cell_type": "markdown",
   "id": "8a44be23",
   "metadata": {},
   "source": [
    "## Step 6: Visualize Expression for a Selected Gene"
   ]
  },
  {
   "cell_type": "code",
   "execution_count": 11,
   "id": "41e6abe9",
   "metadata": {},
   "outputs": [
    {
     "data": {
      "image/png": "[encoded data removed]",
      "text/plain": [
       "<Figure size 640x480 with 1 Axes>"
      ]
     },
     "metadata": {},
     "output_type": "display_data"
    }
   ],
   "source": [
    "import seaborn as sns\n",
    "import matplotlib.pyplot as plt\n",
    "\n",
    "# Select a gene to visualize\n",
    "gene = '1007_s_at'  # Replace with any probe ID\n",
    "sns.boxplot(x='Group', y=gene, data=df)\n",
    "plt.title(f\"Expression of {gene} Across Braak Stages\")\n",
    "plt.show()"
   ]
  },
  {
   "cell_type": "code",
   "execution_count": null,
   "id": "1099dec8-c9f0-41b2-b468-a97e4cff74b4",
   "metadata": {},
   "outputs": [],
   "source": []
  }
 ],
 "metadata": {
  "kernelspec": {
   "display_name": "Python 3 (ipykernel)",
   "language": "python",
   "name": "python3"
  },
  "language_info": {
   "codemirror_mode": {
    "name": "ipython",
    "version": 3
   },
   "file_extension": ".py",
   "mimetype": "text/x-python",
   "name": "python",
   "nbconvert_exporter": "python",
   "pygments_lexer": "ipython3",
   "version": "3.8.19"
  },
  "vscode": {
   "interpreter": {
    "hash": "aee8b7b246df8f9039afb4144a1f6fd8d2ca17a180786b69acc140d282b71a49"
   }
  }
 },
 "nbformat": 4,
 "nbformat_minor": 5
}
